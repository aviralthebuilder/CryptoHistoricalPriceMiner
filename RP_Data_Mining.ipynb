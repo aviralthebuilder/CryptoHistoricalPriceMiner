{
 "cells": [
  {
   "cell_type": "code",
   "execution_count": 111,
   "id": "3cfb217c-31ef-4199-903c-2b9f0ae0622f",
   "metadata": {},
   "outputs": [],
   "source": [
    "import pandas as pd\n",
    "import numpy as np\n",
    "import requests\n",
    "import time , json\n",
    "from datetime import datetime, timedelta\n",
    "from requests import Session\n",
    "from cryptocmd import CmcScraper"
   ]
  },
  {
   "cell_type": "code",
   "execution_count": 119,
   "id": "1d431216-4422-4849-b3a4-587ae439ed02",
   "metadata": {},
   "outputs": [],
   "source": [
    "# CoinmarketCap API Set up\n",
    "# Documentation link: https://coinmarketcap.com/api/documentation/v1/#operation/getV1CryptocurrencyMap\n",
    "cmc_api_key = 'x'\n",
    "\n",
    "# We want to get the top 30 market cap coins\n",
    "cmc_url = 'https://pro-api.coinmarketcap.com/v1/cryptocurrency/listings/latest'\n",
    "\n",
    "headers = {\n",
    "    'Accepts': 'application/json',\n",
    "    'X-CMC_PRO_API_KEY': cmc_api_key\n",
    "} \n",
    "\n",
    "parameters = { 'sort': 'market_cap' , 'start' : 1, 'limit' : 4000}\n",
    "session = Session() # Create new session object to manage API requests\n",
    "session.headers.update(headers) #Update the session headers with the specified headers\n",
    "\n",
    "\n",
    "response = session.get(cmc_url, params=parameters) # Receiving the response from the API\n",
    "\n",
    "info = json.loads(response.text)\n",
    "df = pd.json_normalize(info['data'])\n"
   ]
  },
  {
   "cell_type": "code",
   "execution_count": 120,
   "id": "9659e59c-35e8-451b-bc1d-8e733884ff6d",
   "metadata": {},
   "outputs": [],
   "source": [
    "df = df[['name',\t'symbol', 'quote.USD.market_cap', 'date_added']]\n",
    "df = df[df[\"quote.USD.market_cap\"] > 1000000]\n",
    "df.to_csv(\"top2000Coins.csv\")"
   ]
  },
  {
   "cell_type": "code",
   "execution_count": null,
   "id": "714600f9-943b-4469-9b9e-1180f6d6a81a",
   "metadata": {},
   "outputs": [],
   "source": [
    "historicalData = pd.DataFrame(data, columns=['Date', 'Open', 'High', 'Low', 'Close', 'Volume', 'Market Cap', 'Time Open', 'Time High', 'Time Low', 'Time Close'])\n",
    "start = '01-01-2014'\n",
    "end = '31-12-2023'\n",
    "#hist = {}\n",
    "\n",
    "\n",
    "for index, row in df.iterrows():\n",
    "    sym = row['symbol']\n",
    "    try:\n",
    "        if sym not in hist.keys():\n",
    "            scraper = CmcScraper(sym, start, end)\n",
    "            s = scraper.get_dataframe()\n",
    "            hist[sym] = s\n",
    "            print(i)\n",
    "        i = i + 1\n",
    "    except:\n",
    "        i = i + 1"
   ]
  },
  {
   "cell_type": "code",
   "execution_count": 124,
   "id": "00925204-9b69-4f4b-bc35-ff0ba75729aa",
   "metadata": {},
   "outputs": [
    {
     "data": {
      "text/plain": [
       "1737"
      ]
     },
     "execution_count": 124,
     "metadata": {},
     "output_type": "execute_result"
    }
   ],
   "source": [
    "len(df)"
   ]
  },
  {
   "cell_type": "code",
   "execution_count": 135,
   "id": "6c940e6a-e801-4cb6-9615-29d9c9df99ac",
   "metadata": {},
   "outputs": [
    {
     "name": "stderr",
     "output_type": "stream",
     "text": [
      "/var/folders/6n/xjznq69x05l4v5yr5j15rnt40000gn/T/ipykernel_85393/4232802021.py:6: FutureWarning: The behavior of DataFrame concatenation with empty or all-NA entries is deprecated. In a future version, this will no longer exclude empty or all-NA columns when determining the result dtypes. To retain the old behavior, exclude the relevant entries before the concat operation.\n",
      "  data = pd.concat([data, l])\n"
     ]
    }
   ],
   "source": [
    "data = pd.DataFrame(columns=['Symbol','Date', 'Open', 'High', 'Low', 'Close', 'Volume', 'Market Cap', 'Time Open', 'Time High', 'Time Low', 'Time Close'])\n",
    "\n",
    "for h in hist.keys():\n",
    "    l = hist[h]\n",
    "    l['Symbol'] = h\n",
    "    data = pd.concat([data, l])"
   ]
  },
  {
   "cell_type": "code",
   "execution_count": 140,
   "id": "b7da5f84-e26a-4c8e-9565-d7f3035ca3c1",
   "metadata": {},
   "outputs": [
    {
     "data": {
      "text/html": [
       "<div>\n",
       "<style scoped>\n",
       "    .dataframe tbody tr th:only-of-type {\n",
       "        vertical-align: middle;\n",
       "    }\n",
       "\n",
       "    .dataframe tbody tr th {\n",
       "        vertical-align: top;\n",
       "    }\n",
       "\n",
       "    .dataframe thead th {\n",
       "        text-align: right;\n",
       "    }\n",
       "</style>\n",
       "<table border=\"1\" class=\"dataframe\">\n",
       "  <thead>\n",
       "    <tr style=\"text-align: right;\">\n",
       "      <th></th>\n",
       "      <th>Symbol</th>\n",
       "      <th>Date</th>\n",
       "      <th>Open</th>\n",
       "      <th>High</th>\n",
       "      <th>Low</th>\n",
       "      <th>Close</th>\n",
       "      <th>Volume</th>\n",
       "      <th>Market Cap</th>\n",
       "      <th>Time Open</th>\n",
       "      <th>Time High</th>\n",
       "      <th>Time Low</th>\n",
       "      <th>Time Close</th>\n",
       "    </tr>\n",
       "  </thead>\n",
       "  <tbody>\n",
       "    <tr>\n",
       "      <th>0</th>\n",
       "      <td>BTC</td>\n",
       "      <td>2023-12-31</td>\n",
       "      <td>42152.098454</td>\n",
       "      <td>42860.937392</td>\n",
       "      <td>41998.255346</td>\n",
       "      <td>42265.185655</td>\n",
       "      <td>1.639750e+10</td>\n",
       "      <td>8.278112e+11</td>\n",
       "      <td>2023-12-31T00:00:00.000Z</td>\n",
       "      <td>2023-12-31T09:46:00.000Z</td>\n",
       "      <td>2023-12-31T02:53:00.000Z</td>\n",
       "      <td>2023-12-31T23:59:59.999Z</td>\n",
       "    </tr>\n",
       "    <tr>\n",
       "      <th>1</th>\n",
       "      <td>BTC</td>\n",
       "      <td>2023-12-30</td>\n",
       "      <td>42091.752644</td>\n",
       "      <td>42584.123640</td>\n",
       "      <td>41556.225992</td>\n",
       "      <td>42156.901150</td>\n",
       "      <td>1.601393e+10</td>\n",
       "      <td>8.256468e+11</td>\n",
       "      <td>2023-12-30T00:00:00.000Z</td>\n",
       "      <td>2023-12-30T16:18:00.000Z</td>\n",
       "      <td>2023-12-30T09:45:00.000Z</td>\n",
       "      <td>2023-12-30T23:59:59.999Z</td>\n",
       "    </tr>\n",
       "    <tr>\n",
       "      <th>2</th>\n",
       "      <td>BTC</td>\n",
       "      <td>2023-12-29</td>\n",
       "      <td>42614.643892</td>\n",
       "      <td>43124.325860</td>\n",
       "      <td>41424.060641</td>\n",
       "      <td>42099.402809</td>\n",
       "      <td>2.600002e+10</td>\n",
       "      <td>8.244842e+11</td>\n",
       "      <td>2023-12-29T00:00:00.000Z</td>\n",
       "      <td>2023-12-29T14:43:00.000Z</td>\n",
       "      <td>2023-12-29T22:21:00.000Z</td>\n",
       "      <td>2023-12-29T23:59:59.999Z</td>\n",
       "    </tr>\n",
       "    <tr>\n",
       "      <th>3</th>\n",
       "      <td>BTC</td>\n",
       "      <td>2023-12-28</td>\n",
       "      <td>43468.198063</td>\n",
       "      <td>43804.781418</td>\n",
       "      <td>42318.548862</td>\n",
       "      <td>42627.853531</td>\n",
       "      <td>2.299209e+10</td>\n",
       "      <td>8.347916e+11</td>\n",
       "      <td>2023-12-28T00:00:00.000Z</td>\n",
       "      <td>2023-12-28T00:39:00.000Z</td>\n",
       "      <td>2023-12-28T16:28:00.000Z</td>\n",
       "      <td>2023-12-28T23:59:59.999Z</td>\n",
       "    </tr>\n",
       "    <tr>\n",
       "      <th>4</th>\n",
       "      <td>BTC</td>\n",
       "      <td>2023-12-27</td>\n",
       "      <td>42518.468528</td>\n",
       "      <td>43683.159808</td>\n",
       "      <td>42167.583486</td>\n",
       "      <td>43442.854558</td>\n",
       "      <td>2.526094e+10</td>\n",
       "      <td>8.507208e+11</td>\n",
       "      <td>2023-12-27T00:00:00.000Z</td>\n",
       "      <td>2023-12-27T22:18:00.000Z</td>\n",
       "      <td>2023-12-27T03:34:00.000Z</td>\n",
       "      <td>2023-12-27T23:59:59.999Z</td>\n",
       "    </tr>\n",
       "  </tbody>\n",
       "</table>\n",
       "</div>"
      ],
      "text/plain": [
       "  Symbol       Date          Open          High           Low         Close  \\\n",
       "0    BTC 2023-12-31  42152.098454  42860.937392  41998.255346  42265.185655   \n",
       "1    BTC 2023-12-30  42091.752644  42584.123640  41556.225992  42156.901150   \n",
       "2    BTC 2023-12-29  42614.643892  43124.325860  41424.060641  42099.402809   \n",
       "3    BTC 2023-12-28  43468.198063  43804.781418  42318.548862  42627.853531   \n",
       "4    BTC 2023-12-27  42518.468528  43683.159808  42167.583486  43442.854558   \n",
       "\n",
       "         Volume    Market Cap                 Time Open  \\\n",
       "0  1.639750e+10  8.278112e+11  2023-12-31T00:00:00.000Z   \n",
       "1  1.601393e+10  8.256468e+11  2023-12-30T00:00:00.000Z   \n",
       "2  2.600002e+10  8.244842e+11  2023-12-29T00:00:00.000Z   \n",
       "3  2.299209e+10  8.347916e+11  2023-12-28T00:00:00.000Z   \n",
       "4  2.526094e+10  8.507208e+11  2023-12-27T00:00:00.000Z   \n",
       "\n",
       "                  Time High                  Time Low  \\\n",
       "0  2023-12-31T09:46:00.000Z  2023-12-31T02:53:00.000Z   \n",
       "1  2023-12-30T16:18:00.000Z  2023-12-30T09:45:00.000Z   \n",
       "2  2023-12-29T14:43:00.000Z  2023-12-29T22:21:00.000Z   \n",
       "3  2023-12-28T00:39:00.000Z  2023-12-28T16:28:00.000Z   \n",
       "4  2023-12-27T22:18:00.000Z  2023-12-27T03:34:00.000Z   \n",
       "\n",
       "                 Time Close  \n",
       "0  2023-12-31T23:59:59.999Z  \n",
       "1  2023-12-30T23:59:59.999Z  \n",
       "2  2023-12-29T23:59:59.999Z  \n",
       "3  2023-12-28T23:59:59.999Z  \n",
       "4  2023-12-27T23:59:59.999Z  "
      ]
     },
     "execution_count": 140,
     "metadata": {},
     "output_type": "execute_result"
    }
   ],
   "source": [
    "data.head()"
   ]
  },
  {
   "cell_type": "code",
   "execution_count": 139,
   "id": "e44c3c8f-9136-4e05-9efd-3d40a879dd47",
   "metadata": {},
   "outputs": [],
   "source": [
    "data.to_csv(\"Historical_data_backup.csv\")"
   ]
  },
  {
   "cell_type": "code",
   "execution_count": null,
   "id": "596f0394-5a46-41f8-8e75-daa3cd0f3543",
   "metadata": {},
   "outputs": [],
   "source": []
  }
 ],
 "metadata": {
  "kernelspec": {
   "display_name": "Python 3 (ipykernel)",
   "language": "python",
   "name": "python3"
  },
  "language_info": {
   "codemirror_mode": {
    "name": "ipython",
    "version": 3
   },
   "file_extension": ".py",
   "mimetype": "text/x-python",
   "name": "python",
   "nbconvert_exporter": "python",
   "pygments_lexer": "ipython3",
   "version": "3.11.6"
  }
 },
 "nbformat": 4,
 "nbformat_minor": 5
}
